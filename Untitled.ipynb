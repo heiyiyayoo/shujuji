{
  "nbformat": 4,
  "nbformat_minor": 0,
  "metadata": {
    "colab": {
      "name": "Untitled",
      "provenance": [],
      "collapsed_sections": [],
      "mount_file_id": "1z9FN37epMPXziJXvxeHtwa_hgvum9jXG",
      "authorship_tag": "ABX9TyPXNzb3bsyVOo/WvflnIQO/",
      "include_colab_link": true
    },
    "kernelspec": {
      "name": "python3",
      "display_name": "Python 3"
    },
    "language_info": {
      "name": "python"
    },
    "accelerator": "GPU"
  },
  "cells": [
    {
      "cell_type": "markdown",
      "metadata": {
        "id": "view-in-github",
        "colab_type": "text"
      },
      "source": [
        "<a href=\"https://colab.research.google.com/github/heiyiyayoo/shujuji/blob/main/Untitled.ipynb\" target=\"_parent\"><img src=\"https://colab.research.google.com/assets/colab-badge.svg\" alt=\"Open In Colab\"/></a>"
      ]
    },
    {
      "cell_type": "code",
      "metadata": {
        "id": "9Mrgy-SIkYHy",
        "colab": {
          "base_uri": "https://localhost:8080/",
          "height": 34
        },
        "outputId": "3134731e-fa50-4e9c-b70b-2665687fe0e5"
      },
      "source": [
        "pwd"
      ],
      "execution_count": null,
      "outputs": [
        {
          "output_type": "execute_result",
          "data": {
            "application/vnd.google.colaboratory.intrinsic+json": {
              "type": "string"
            },
            "text/plain": [
              "'/content/drive/MyDrive/Unet-pytorch/unet'"
            ]
          },
          "metadata": {
            "tags": []
          },
          "execution_count": 4
        }
      ]
    },
    {
      "cell_type": "code",
      "metadata": {
        "id": "c4qg5uTXkaPw",
        "colab": {
          "base_uri": "https://localhost:8080/"
        },
        "outputId": "80e74a8d-f545-439a-a29b-60dcef119bdf"
      },
      "source": [
        "cd /content/drive/MyDrive/Unet-pytorch/unet"
      ],
      "execution_count": null,
      "outputs": [
        {
          "output_type": "stream",
          "text": [
            "/content/drive/MyDrive/Unet-pytorch/unet\n"
          ],
          "name": "stdout"
        }
      ]
    },
    {
      "cell_type": "code",
      "metadata": {
        "colab": {
          "base_uri": "https://localhost:8080/"
        },
        "id": "7taP0xn2n2To",
        "outputId": "a6a1d47c-6460-4b7e-f593-64de4d2e9954"
      },
      "source": [
        "!nvidia-smi"
      ],
      "execution_count": null,
      "outputs": [
        {
          "output_type": "stream",
          "text": [
            "Wed Jul 21 02:44:24 2021       \n",
            "+-----------------------------------------------------------------------------+\n",
            "| NVIDIA-SMI 470.42.01    Driver Version: 460.32.03    CUDA Version: 11.2     |\n",
            "|-------------------------------+----------------------+----------------------+\n",
            "| GPU  Name        Persistence-M| Bus-Id        Disp.A | Volatile Uncorr. ECC |\n",
            "| Fan  Temp  Perf  Pwr:Usage/Cap|         Memory-Usage | GPU-Util  Compute M. |\n",
            "|                               |                      |               MIG M. |\n",
            "|===============================+======================+======================|\n",
            "|   0  Tesla T4            Off  | 00000000:00:04.0 Off |                    0 |\n",
            "| N/A   60C    P8    10W /  70W |      0MiB / 15109MiB |      0%      Default |\n",
            "|                               |                      |                  N/A |\n",
            "+-------------------------------+----------------------+----------------------+\n",
            "                                                                               \n",
            "+-----------------------------------------------------------------------------+\n",
            "| Processes:                                                                  |\n",
            "|  GPU   GI   CI        PID   Type   Process name                  GPU Memory |\n",
            "|        ID   ID                                                   Usage      |\n",
            "|=============================================================================|\n",
            "|  No running processes found                                                 |\n",
            "+-----------------------------------------------------------------------------+\n"
          ],
          "name": "stdout"
        }
      ]
    },
    {
      "cell_type": "code",
      "metadata": {
        "id": "8Zt8b3Uap5T3",
        "colab": {
          "base_uri": "https://localhost:8080/"
        },
        "outputId": "1da224b3-7c0e-44aa-c6f9-06e18c15f19e"
      },
      "source": [
        "!mkdir Unet-pytorch"
      ],
      "execution_count": null,
      "outputs": [
        {
          "output_type": "stream",
          "text": [
            "mkdir: cannot create directory ‘Unet-pytorch’: File exists\n"
          ],
          "name": "stdout"
        }
      ]
    },
    {
      "cell_type": "code",
      "metadata": {
        "colab": {
          "base_uri": "https://localhost:8080/"
        },
        "id": "YcffdaZaq_xl",
        "outputId": "b268f611-9adf-48b3-dc8a-57f37386c5cb"
      },
      "source": [
        "cd /Unet-pytorch"
      ],
      "execution_count": null,
      "outputs": [
        {
          "output_type": "stream",
          "text": [
            "[Errno 2] No such file or directory: '/Unet-pytorch'\n",
            "/content/drive/MyDrive\n"
          ],
          "name": "stdout"
        }
      ]
    },
    {
      "cell_type": "code",
      "metadata": {
        "colab": {
          "base_uri": "https://localhost:8080/"
        },
        "id": "BD4znth5rIjN",
        "outputId": "a3babc04-f7f5-4250-ebed-7bc8edbbd58a"
      },
      "source": [
        "cd Unet-pytorch"
      ],
      "execution_count": null,
      "outputs": [
        {
          "output_type": "stream",
          "text": [
            "/content/drive/My Drive/Unet-pytorch\n"
          ],
          "name": "stdout"
        }
      ]
    },
    {
      "cell_type": "code",
      "metadata": {
        "colab": {
          "base_uri": "https://localhost:8080/"
        },
        "id": "VvA5PIoXrNh5",
        "outputId": "c4434b4f-05c4-483e-d224-2476930cd239"
      },
      "source": [
        "!git clone https://gitee.com/heiyiyayoo/unet.git"
      ],
      "execution_count": null,
      "outputs": [
        {
          "output_type": "stream",
          "text": [
            "Cloning into 'unet'...\n",
            "remote: Enumerating objects: 256, done.\u001b[K\n",
            "remote: Counting objects: 100% (256/256), done.\u001b[K\n",
            "remote: Compressing objects: 100% (176/176), done.\u001b[K\n",
            "remote: Total 256 (delta 71), reused 256 (delta 71), pack-reused 0\u001b[K\n",
            "Receiving objects: 100% (256/256), 10.51 MiB | 6.44 MiB/s, done.\n",
            "Resolving deltas: 100% (71/71), done.\n"
          ],
          "name": "stdout"
        }
      ]
    },
    {
      "cell_type": "code",
      "metadata": {
        "colab": {
          "base_uri": "https://localhost:8080/"
        },
        "id": "wsv0Q-ZbrSuu",
        "outputId": "28e0f106-9f9d-4e1e-fcc6-530f562227db"
      },
      "source": [
        "cd unet/"
      ],
      "execution_count": null,
      "outputs": [
        {
          "output_type": "stream",
          "text": [
            "/content/drive/My Drive/Unet-pytorch/unet\n"
          ],
          "name": "stdout"
        }
      ]
    },
    {
      "cell_type": "code",
      "metadata": {
        "colab": {
          "base_uri": "https://localhost:8080/"
        },
        "id": "_he3PNvhrdPv",
        "outputId": "52350100-07ea-4da0-bbf2-932877927b02"
      },
      "source": [
        "!python train.py"
      ],
      "execution_count": null,
      "outputs": [
        {
          "output_type": "stream",
          "text": [
            "/usr/local/lib/python3.7/dist-packages/torch/utils/data/dataloader.py:481: UserWarning: This DataLoader will create 4 worker processes in total. Our suggested max number of worker in current system is 2, which is smaller than what this DataLoader is going to create. Please be aware that excessive worker creation might get DataLoader running slow or even freeze, lower the worker number to avoid potential slowness/freeze if necessary.\n",
            "  cpuset_checked))\n",
            "Epoch 1/25:   0% 0/108 [00:00<?, ?it/s<class 'dict'>]/usr/local/lib/python3.7/dist-packages/torch/nn/functional.py:718: UserWarning: Named tensors and all their associated APIs are an experimental feature and subject to change. Please do not use them for anything important until they are released as stable. (Triggered internally at  /pytorch/c10/core/TensorImpl.h:1156.)\n",
            "  return torch.max_pool2d(input, kernel_size, stride, padding, dilation, ceil_mode)\n",
            "Epoch 1/25: 100% 108/108 [03:13<00:00,  1.79s/it, f_score=0.237, lr=0.0001, s/step=1.66, total_loss=0.887]\n",
            "Start Validation\n",
            "Epoch 1/25:   0% 0/12 [00:00<?, ?it/s<class 'dict'>][W pthreadpool-cpp.cc:90] Warning: Leaking Caffe2 thread-pool after fork. (function pthreadpool)\n",
            "[W pthreadpool-cpp.cc:90] Warning: Leaking Caffe2 thread-pool after fork. (function pthreadpool)\n",
            "[W pthreadpool-cpp.cc:90] Warning: Leaking Caffe2 thread-pool after fork. (function pthreadpool)\n",
            "[W pthreadpool-cpp.cc:90] Warning: Leaking Caffe2 thread-pool after fork. (function pthreadpool)\n",
            "Epoch 1/25: 100% 12/12 [00:13<00:00,  1.15s/it, f_score=0.247, lr=0.0001, total_loss=0.792]\n",
            "Finish Validation\n",
            "Epoch:1/25\n",
            "Total Loss: 0.8789 || Val Loss: 0.7313 \n",
            "Saving state, iter: 1\n",
            "Epoch 2/25:   0% 0/108 [00:00<?, ?it/s<class 'dict'>][W pthreadpool-cpp.cc:90] Warning: Leaking Caffe2 thread-pool after fork. (function pthreadpool)\n",
            "[W pthreadpool-cpp.cc:90] Warning: Leaking Caffe2 thread-pool after fork. (function pthreadpool)\n",
            "[W pthreadpool-cpp.cc:90] Warning: Leaking Caffe2 thread-pool after fork. (function pthreadpool)\n",
            "[W pthreadpool-cpp.cc:90] Warning: Leaking Caffe2 thread-pool after fork. (function pthreadpool)\n",
            "Epoch 2/25: 100% 108/108 [03:04<00:00,  1.71s/it, f_score=0.248, lr=9.2e-5, s/step=1.68, total_loss=0.783]\n",
            "Start Validation\n",
            "Epoch 2/25:   0% 0/12 [00:00<?, ?it/s<class 'dict'>][W pthreadpool-cpp.cc:90] Warning: Leaking Caffe2 thread-pool after fork. (function pthreadpool)\n",
            "[W pthreadpool-cpp.cc:90] Warning: Leaking Caffe2 thread-pool after fork. (function pthreadpool)\n",
            "[W pthreadpool-cpp.cc:90] Warning: Leaking Caffe2 thread-pool after fork. (function pthreadpool)\n",
            "[W pthreadpool-cpp.cc:90] Warning: Leaking Caffe2 thread-pool after fork. (function pthreadpool)\n",
            "Epoch 2/25: 100% 12/12 [00:14<00:00,  1.19s/it, f_score=0.245, lr=9.2e-5, total_loss=0.823]\n",
            "Finish Validation\n",
            "Epoch:2/25\n",
            "Total Loss: 0.7760 || Val Loss: 0.7593 \n",
            "Saving state, iter: 2\n",
            "Epoch 3/25:   0% 0/108 [00:00<?, ?it/s<class 'dict'>][W pthreadpool-cpp.cc:90] Warning: Leaking Caffe2 thread-pool after fork. (function pthreadpool)\n",
            "[W pthreadpool-cpp.cc:90] Warning: Leaking Caffe2 thread-pool after fork. (function pthreadpool)\n",
            "[W pthreadpool-cpp.cc:90] Warning: Leaking Caffe2 thread-pool after fork. (function pthreadpool)\n",
            "[W pthreadpool-cpp.cc:90] Warning: Leaking Caffe2 thread-pool after fork. (function pthreadpool)\n",
            "Epoch 3/25: 100% 108/108 [03:05<00:00,  1.72s/it, f_score=0.31, lr=8.46e-5, s/step=1.7, total_loss=0.75]\n",
            "Start Validation\n",
            "Epoch 3/25:   0% 0/12 [00:00<?, ?it/s<class 'dict'>][W pthreadpool-cpp.cc:90] Warning: Leaking Caffe2 thread-pool after fork. (function pthreadpool)\n",
            "[W pthreadpool-cpp.cc:90] Warning: Leaking Caffe2 thread-pool after fork. (function pthreadpool)\n",
            "[W pthreadpool-cpp.cc:90] Warning: Leaking Caffe2 thread-pool after fork. (function pthreadpool)\n",
            "[W pthreadpool-cpp.cc:90] Warning: Leaking Caffe2 thread-pool after fork. (function pthreadpool)\n",
            "Epoch 3/25: 100% 12/12 [00:13<00:00,  1.17s/it, f_score=0.443, lr=8.46e-5, total_loss=0.642]\n",
            "Finish Validation\n",
            "Epoch:3/25\n",
            "Total Loss: 0.7427 || Val Loss: 0.5930 \n",
            "Saving state, iter: 3\n",
            "Epoch 4/25:   0% 0/108 [00:00<?, ?it/s<class 'dict'>][W pthreadpool-cpp.cc:90] Warning: Leaking Caffe2 thread-pool after fork. (function pthreadpool)\n",
            "[W pthreadpool-cpp.cc:90] Warning: Leaking Caffe2 thread-pool after fork. (function pthreadpool)\n",
            "[W pthreadpool-cpp.cc:90] Warning: Leaking Caffe2 thread-pool after fork. (function pthreadpool)\n",
            "[W pthreadpool-cpp.cc:90] Warning: Leaking Caffe2 thread-pool after fork. (function pthreadpool)\n",
            "Epoch 4/25: 100% 108/108 [03:04<00:00,  1.71s/it, f_score=0.363, lr=7.79e-5, s/step=1.7, total_loss=0.712]\n",
            "Start Validation\n",
            "Epoch 4/25:   0% 0/12 [00:00<?, ?it/s<class 'dict'>][W pthreadpool-cpp.cc:90] Warning: Leaking Caffe2 thread-pool after fork. (function pthreadpool)\n",
            "[W pthreadpool-cpp.cc:90] Warning: Leaking Caffe2 thread-pool after fork. (function pthreadpool)\n",
            "[W pthreadpool-cpp.cc:90] Warning: Leaking Caffe2 thread-pool after fork. (function pthreadpool)\n",
            "[W pthreadpool-cpp.cc:90] Warning: Leaking Caffe2 thread-pool after fork. (function pthreadpool)\n",
            "Epoch 4/25: 100% 12/12 [00:14<00:00,  1.18s/it, f_score=0.429, lr=7.79e-5, total_loss=0.647]\n",
            "Finish Validation\n",
            "Epoch:4/25\n",
            "Total Loss: 0.7058 || Val Loss: 0.5972 \n",
            "Saving state, iter: 4\n",
            "Epoch 5/25:   0% 0/108 [00:00<?, ?it/s<class 'dict'>][W pthreadpool-cpp.cc:90] Warning: Leaking Caffe2 thread-pool after fork. (function pthreadpool)\n",
            "[W pthreadpool-cpp.cc:90] Warning: Leaking Caffe2 thread-pool after fork. (function pthreadpool)\n",
            "[W pthreadpool-cpp.cc:90] Warning: Leaking Caffe2 thread-pool after fork. (function pthreadpool)\n",
            "[W pthreadpool-cpp.cc:90] Warning: Leaking Caffe2 thread-pool after fork. (function pthreadpool)\n",
            "Epoch 5/25: 100% 108/108 [03:06<00:00,  1.73s/it, f_score=0.389, lr=7.16e-5, s/step=1.72, total_loss=0.681]\n",
            "Start Validation\n",
            "Epoch 5/25:   0% 0/12 [00:00<?, ?it/s<class 'dict'>][W pthreadpool-cpp.cc:90] Warning: Leaking Caffe2 thread-pool after fork. (function pthreadpool)\n",
            "[W pthreadpool-cpp.cc:90] Warning: Leaking Caffe2 thread-pool after fork. (function pthreadpool)\n",
            "[W pthreadpool-cpp.cc:90] Warning: Leaking Caffe2 thread-pool after fork. (function pthreadpool)\n",
            "[W pthreadpool-cpp.cc:90] Warning: Leaking Caffe2 thread-pool after fork. (function pthreadpool)\n",
            "Epoch 5/25: 100% 12/12 [00:13<00:00,  1.14s/it, f_score=0.295, lr=7.16e-5, total_loss=0.715]\n",
            "Finish Validation\n",
            "Epoch:5/25\n",
            "Total Loss: 0.6744 || Val Loss: 0.6596 \n",
            "Saving state, iter: 5\n",
            "Epoch 6/25:   0% 0/108 [00:00<?, ?it/s<class 'dict'>]/usr/local/lib/python3.7/dist-packages/torch/utils/data/dataloader.py:481: UserWarning: This DataLoader will create 4 worker processes in total. Our suggested max number of worker in current system is 2, which is smaller than what this DataLoader is going to create. Please be aware that excessive worker creation might get DataLoader running slow or even freeze, lower the worker number to avoid potential slowness/freeze if necessary.\n",
            "  cpuset_checked))\n",
            "[W pthreadpool-cpp.cc:90] Warning: Leaking Caffe2 thread-pool after fork. (function pthreadpool)\n",
            "[W pthreadpool-cpp.cc:90] Warning: Leaking Caffe2 thread-pool after fork. (function pthreadpool)\n",
            "[W pthreadpool-cpp.cc:90] Warning: Leaking Caffe2 thread-pool after fork. (function pthreadpool)\n",
            "[W pthreadpool-cpp.cc:90] Warning: Leaking Caffe2 thread-pool after fork. (function pthreadpool)\n",
            "Epoch 6/25: 100% 108/108 [03:05<00:00,  1.72s/it, f_score=0.4, lr=6.59e-5, s/step=1.69, total_loss=0.668]\n",
            "Start Validation\n",
            "Epoch 6/25:   0% 0/12 [00:00<?, ?it/s<class 'dict'>][W pthreadpool-cpp.cc:90] Warning: Leaking Caffe2 thread-pool after fork. (function pthreadpool)\n",
            "[W pthreadpool-cpp.cc:90] Warning: Leaking Caffe2 thread-pool after fork. (function pthreadpool)\n",
            "[W pthreadpool-cpp.cc:90] Warning: Leaking Caffe2 thread-pool after fork. (function pthreadpool)\n",
            "[W pthreadpool-cpp.cc:90] Warning: Leaking Caffe2 thread-pool after fork. (function pthreadpool)\n",
            "Epoch 6/25: 100% 12/12 [00:13<00:00,  1.11s/it, f_score=0.4, lr=6.59e-5, total_loss=0.684]\n",
            "Finish Validation\n",
            "Epoch:6/25\n",
            "Total Loss: 0.6614 || Val Loss: 0.6315 \n",
            "Saving state, iter: 6\n",
            "Epoch 7/25:   0% 0/108 [00:00<?, ?it/s<class 'dict'>]/usr/local/lib/python3.7/dist-packages/torch/utils/data/dataloader.py:481: UserWarning: This DataLoader will create 4 worker processes in total. Our suggested max number of worker in current system is 2, which is smaller than what this DataLoader is going to create. Please be aware that excessive worker creation might get DataLoader running slow or even freeze, lower the worker number to avoid potential slowness/freeze if necessary.\n",
            "  cpuset_checked))\n",
            "[W pthreadpool-cpp.cc:90] Warning: Leaking Caffe2 thread-pool after fork. (function pthreadpool)\n",
            "[W pthreadpool-cpp.cc:90] Warning: Leaking Caffe2 thread-pool after fork. (function pthreadpool)\n",
            "[W pthreadpool-cpp.cc:90] Warning: Leaking Caffe2 thread-pool after fork. (function pthreadpool)\n",
            "[W pthreadpool-cpp.cc:90] Warning: Leaking Caffe2 thread-pool after fork. (function pthreadpool)\n",
            "Epoch 7/25: 100% 108/108 [03:05<00:00,  1.72s/it, f_score=0.409, lr=6.06e-5, s/step=1.69, total_loss=0.659]\n",
            "Start Validation\n",
            "Epoch 7/25:   0% 0/12 [00:00<?, ?it/s<class 'dict'>][W pthreadpool-cpp.cc:90] Warning: Leaking Caffe2 thread-pool after fork. (function pthreadpool)\n",
            "[W pthreadpool-cpp.cc:90] Warning: Leaking Caffe2 thread-pool after fork. (function pthreadpool)\n",
            "[W pthreadpool-cpp.cc:90] Warning: Leaking Caffe2 thread-pool after fork. (function pthreadpool)\n",
            "[W pthreadpool-cpp.cc:90] Warning: Leaking Caffe2 thread-pool after fork. (function pthreadpool)\n",
            "Epoch 7/25: 100% 12/12 [00:15<00:00,  1.26s/it, f_score=0.474, lr=6.06e-5, total_loss=0.605]\n",
            "Finish Validation\n",
            "Epoch:7/25\n",
            "Total Loss: 0.6529 || Val Loss: 0.5582 \n",
            "Saving state, iter: 7\n",
            "Epoch 8/25:   0% 0/108 [00:00<?, ?it/s<class 'dict'>]/usr/local/lib/python3.7/dist-packages/torch/utils/data/dataloader.py:481: UserWarning: This DataLoader will create 4 worker processes in total. Our suggested max number of worker in current system is 2, which is smaller than what this DataLoader is going to create. Please be aware that excessive worker creation might get DataLoader running slow or even freeze, lower the worker number to avoid potential slowness/freeze if necessary.\n",
            "  cpuset_checked))\n",
            "[W pthreadpool-cpp.cc:90] Warning: Leaking Caffe2 thread-pool after fork. (function pthreadpool)\n",
            "[W pthreadpool-cpp.cc:90] Warning: Leaking Caffe2 thread-pool after fork. (function pthreadpool)\n",
            "[W pthreadpool-cpp.cc:90] Warning: Leaking Caffe2 thread-pool after fork. (function pthreadpool)\n",
            "[W pthreadpool-cpp.cc:90] Warning: Leaking Caffe2 thread-pool after fork. (function pthreadpool)\n",
            "Epoch 8/25: 100% 108/108 [03:05<00:00,  1.72s/it, f_score=0.421, lr=5.58e-5, s/step=1.68, total_loss=0.65]\n",
            "Start Validation\n",
            "Epoch 8/25:   0% 0/12 [00:00<?, ?it/s<class 'dict'>][W pthreadpool-cpp.cc:90] Warning: Leaking Caffe2 thread-pool after fork. (function pthreadpool)\n",
            "[W pthreadpool-cpp.cc:90] Warning: Leaking Caffe2 thread-pool after fork. (function pthreadpool)\n",
            "[W pthreadpool-cpp.cc:90] Warning: Leaking Caffe2 thread-pool after fork. (function pthreadpool)\n",
            "[W pthreadpool-cpp.cc:90] Warning: Leaking Caffe2 thread-pool after fork. (function pthreadpool)\n",
            "Epoch 8/25: 100% 12/12 [00:13<00:00,  1.15s/it, f_score=0.488, lr=5.58e-5, total_loss=0.585]\n",
            "Finish Validation\n",
            "Epoch:8/25\n",
            "Total Loss: 0.6438 || Val Loss: 0.5396 \n",
            "Saving state, iter: 8\n",
            "Epoch 9/25:   0% 0/108 [00:00<?, ?it/s<class 'dict'>]/usr/local/lib/python3.7/dist-packages/torch/utils/data/dataloader.py:481: UserWarning: This DataLoader will create 4 worker processes in total. Our suggested max number of worker in current system is 2, which is smaller than what this DataLoader is going to create. Please be aware that excessive worker creation might get DataLoader running slow or even freeze, lower the worker number to avoid potential slowness/freeze if necessary.\n",
            "  cpuset_checked))\n",
            "[W pthreadpool-cpp.cc:90] Warning: Leaking Caffe2 thread-pool after fork. (function pthreadpool)\n",
            "[W pthreadpool-cpp.cc:90] Warning: Leaking Caffe2 thread-pool after fork. (function pthreadpool)\n",
            "[W pthreadpool-cpp.cc:90] Warning: Leaking Caffe2 thread-pool after fork. (function pthreadpool)\n",
            "[W pthreadpool-cpp.cc:90] Warning: Leaking Caffe2 thread-pool after fork. (function pthreadpool)\n",
            "Epoch 9/25: 100% 108/108 [03:05<00:00,  1.71s/it, f_score=0.439, lr=5.13e-5, s/step=1.67, total_loss=0.628]\n",
            "Start Validation\n",
            "Epoch 9/25:   0% 0/12 [00:00<?, ?it/s<class 'dict'>][W pthreadpool-cpp.cc:90] Warning: Leaking Caffe2 thread-pool after fork. (function pthreadpool)\n",
            "[W pthreadpool-cpp.cc:90] Warning: Leaking Caffe2 thread-pool after fork. (function pthreadpool)\n",
            "[W pthreadpool-cpp.cc:90] Warning: Leaking Caffe2 thread-pool after fork. (function pthreadpool)\n",
            "[W pthreadpool-cpp.cc:90] Warning: Leaking Caffe2 thread-pool after fork. (function pthreadpool)\n",
            "Epoch 9/25: 100% 12/12 [00:13<00:00,  1.11s/it, f_score=0.504, lr=5.13e-5, total_loss=0.565]\n",
            "Finish Validation\n",
            "Epoch:9/25\n",
            "Total Loss: 0.6221 || Val Loss: 0.5211 \n",
            "Saving state, iter: 9\n",
            "Epoch 10/25:   0% 0/108 [00:00<?, ?it/s<class 'dict'>]/usr/local/lib/python3.7/dist-packages/torch/utils/data/dataloader.py:481: UserWarning: This DataLoader will create 4 worker processes in total. Our suggested max number of worker in current system is 2, which is smaller than what this DataLoader is going to create. Please be aware that excessive worker creation might get DataLoader running slow or even freeze, lower the worker number to avoid potential slowness/freeze if necessary.\n",
            "  cpuset_checked))\n",
            "[W pthreadpool-cpp.cc:90] Warning: Leaking Caffe2 thread-pool after fork. (function pthreadpool)\n",
            "[W pthreadpool-cpp.cc:90] Warning: Leaking Caffe2 thread-pool after fork. (function pthreadpool)\n",
            "[W pthreadpool-cpp.cc:90] Warning: Leaking Caffe2 thread-pool after fork. (function pthreadpool)\n",
            "[W pthreadpool-cpp.cc:90] Warning: Leaking Caffe2 thread-pool after fork. (function pthreadpool)\n",
            "Epoch 10/25: 100% 108/108 [03:06<00:00,  1.72s/it, f_score=0.477, lr=4.72e-5, s/step=1.7, total_loss=0.591]\n",
            "Start Validation\n",
            "Epoch 10/25:   0% 0/12 [00:00<?, ?it/s<class 'dict'>][W pthreadpool-cpp.cc:90] Warning: Leaking Caffe2 thread-pool after fork. (function pthreadpool)\n",
            "[W pthreadpool-cpp.cc:90] Warning: Leaking Caffe2 thread-pool after fork. (function pthreadpool)\n",
            "[W pthreadpool-cpp.cc:90] Warning: Leaking Caffe2 thread-pool after fork. (function pthreadpool)\n",
            "[W pthreadpool-cpp.cc:90] Warning: Leaking Caffe2 thread-pool after fork. (function pthreadpool)\n",
            "Epoch 10/25: 100% 12/12 [00:13<00:00,  1.15s/it, f_score=0.573, lr=4.72e-5, total_loss=0.514]\n",
            "Finish Validation\n",
            "Epoch:10/25\n",
            "Total Loss: 0.5858 || Val Loss: 0.4743 \n",
            "Saving state, iter: 10\n",
            "Epoch 11/25:   0% 0/108 [00:00<?, ?it/s<class 'dict'>]/usr/local/lib/python3.7/dist-packages/torch/utils/data/dataloader.py:481: UserWarning: This DataLoader will create 4 worker processes in total. Our suggested max number of worker in current system is 2, which is smaller than what this DataLoader is going to create. Please be aware that excessive worker creation might get DataLoader running slow or even freeze, lower the worker number to avoid potential slowness/freeze if necessary.\n",
            "  cpuset_checked))\n",
            "[W pthreadpool-cpp.cc:90] Warning: Leaking Caffe2 thread-pool after fork. (function pthreadpool)\n",
            "[W pthreadpool-cpp.cc:90] Warning: Leaking Caffe2 thread-pool after fork. (function pthreadpool)\n",
            "[W pthreadpool-cpp.cc:90] Warning: Leaking Caffe2 thread-pool after fork. (function pthreadpool)\n",
            "[W pthreadpool-cpp.cc:90] Warning: Leaking Caffe2 thread-pool after fork. (function pthreadpool)\n",
            "Epoch 11/25: 100% 108/108 [03:06<00:00,  1.73s/it, f_score=0.505, lr=4.34e-5, s/step=1.67, total_loss=0.566]\n",
            "Start Validation\n",
            "Epoch 11/25:   0% 0/12 [00:00<?, ?it/s<class 'dict'>][W pthreadpool-cpp.cc:90] Warning: Leaking Caffe2 thread-pool after fork. (function pthreadpool)\n",
            "[W pthreadpool-cpp.cc:90] Warning: Leaking Caffe2 thread-pool after fork. (function pthreadpool)\n",
            "[W pthreadpool-cpp.cc:90] Warning: Leaking Caffe2 thread-pool after fork. (function pthreadpool)\n",
            "[W pthreadpool-cpp.cc:90] Warning: Leaking Caffe2 thread-pool after fork. (function pthreadpool)\n",
            "Epoch 11/25: 100% 12/12 [00:13<00:00,  1.16s/it, f_score=0.594, lr=4.34e-5, total_loss=0.502]\n",
            "Finish Validation\n",
            "Epoch:11/25\n",
            "Total Loss: 0.5611 || Val Loss: 0.4632 \n",
            "Saving state, iter: 11\n",
            "Epoch 12/25:   0% 0/108 [00:00<?, ?it/s<class 'dict'>]/usr/local/lib/python3.7/dist-packages/torch/utils/data/dataloader.py:481: UserWarning: This DataLoader will create 4 worker processes in total. Our suggested max number of worker in current system is 2, which is smaller than what this DataLoader is going to create. Please be aware that excessive worker creation might get DataLoader running slow or even freeze, lower the worker number to avoid potential slowness/freeze if necessary.\n",
            "  cpuset_checked))\n",
            "[W pthreadpool-cpp.cc:90] Warning: Leaking Caffe2 thread-pool after fork. (function pthreadpool)\n",
            "[W pthreadpool-cpp.cc:90] Warning: Leaking Caffe2 thread-pool after fork. (function pthreadpool)\n",
            "[W pthreadpool-cpp.cc:90] Warning: Leaking Caffe2 thread-pool after fork. (function pthreadpool)\n",
            "[W pthreadpool-cpp.cc:90] Warning: Leaking Caffe2 thread-pool after fork. (function pthreadpool)\n",
            "Epoch 12/25: 100% 108/108 [03:06<00:00,  1.72s/it, f_score=0.556, lr=4e-5, s/step=1.69, total_loss=0.514]\n",
            "Start Validation\n",
            "Epoch 12/25:   0% 0/12 [00:00<?, ?it/s<class 'dict'>][W pthreadpool-cpp.cc:90] Warning: Leaking Caffe2 thread-pool after fork. (function pthreadpool)\n",
            "[W pthreadpool-cpp.cc:90] Warning: Leaking Caffe2 thread-pool after fork. (function pthreadpool)\n",
            "[W pthreadpool-cpp.cc:90] Warning: Leaking Caffe2 thread-pool after fork. (function pthreadpool)\n",
            "[W pthreadpool-cpp.cc:90] Warning: Leaking Caffe2 thread-pool after fork. (function pthreadpool)\n",
            "Epoch 12/25: 100% 12/12 [00:14<00:00,  1.17s/it, f_score=0.659, lr=4e-5, total_loss=0.408]\n",
            "Finish Validation\n",
            "Epoch:12/25\n",
            "Total Loss: 0.5096 || Val Loss: 0.3768 \n",
            "Saving state, iter: 12\n",
            "Epoch 13/25:   0% 0/108 [00:00<?, ?it/s<class 'dict'>]/usr/local/lib/python3.7/dist-packages/torch/utils/data/dataloader.py:481: UserWarning: This DataLoader will create 4 worker processes in total. Our suggested max number of worker in current system is 2, which is smaller than what this DataLoader is going to create. Please be aware that excessive worker creation might get DataLoader running slow or even freeze, lower the worker number to avoid potential slowness/freeze if necessary.\n",
            "  cpuset_checked))\n",
            "[W pthreadpool-cpp.cc:90] Warning: Leaking Caffe2 thread-pool after fork. (function pthreadpool)\n",
            "[W pthreadpool-cpp.cc:90] Warning: Leaking Caffe2 thread-pool after fork. (function pthreadpool)\n",
            "[W pthreadpool-cpp.cc:90] Warning: Leaking Caffe2 thread-pool after fork. (function pthreadpool)\n",
            "[W pthreadpool-cpp.cc:90] Warning: Leaking Caffe2 thread-pool after fork. (function pthreadpool)\n",
            "Epoch 13/25: 100% 108/108 [03:06<00:00,  1.73s/it, f_score=0.594, lr=3.68e-5, s/step=1.7, total_loss=0.475]\n",
            "Start Validation\n",
            "Epoch 13/25:   0% 0/12 [00:00<?, ?it/s<class 'dict'>][W pthreadpool-cpp.cc:90] Warning: Leaking Caffe2 thread-pool after fork. (function pthreadpool)\n",
            "[W pthreadpool-cpp.cc:90] Warning: Leaking Caffe2 thread-pool after fork. (function pthreadpool)\n",
            "[W pthreadpool-cpp.cc:90] Warning: Leaking Caffe2 thread-pool after fork. (function pthreadpool)\n",
            "[W pthreadpool-cpp.cc:90] Warning: Leaking Caffe2 thread-pool after fork. (function pthreadpool)\n",
            "Epoch 13/25: 100% 12/12 [00:13<00:00,  1.13s/it, f_score=0.648, lr=3.68e-5, total_loss=0.425]\n",
            "Finish Validation\n",
            "Epoch:13/25\n",
            "Total Loss: 0.4706 || Val Loss: 0.3928 \n",
            "Saving state, iter: 13\n",
            "Epoch 14/25:   0% 0/108 [00:00<?, ?it/s<class 'dict'>]/usr/local/lib/python3.7/dist-packages/torch/utils/data/dataloader.py:481: UserWarning: This DataLoader will create 4 worker processes in total. Our suggested max number of worker in current system is 2, which is smaller than what this DataLoader is going to create. Please be aware that excessive worker creation might get DataLoader running slow or even freeze, lower the worker number to avoid potential slowness/freeze if necessary.\n",
            "  cpuset_checked))\n",
            "[W pthreadpool-cpp.cc:90] Warning: Leaking Caffe2 thread-pool after fork. (function pthreadpool)\n",
            "[W pthreadpool-cpp.cc:90] Warning: Leaking Caffe2 thread-pool after fork. (function pthreadpool)\n",
            "[W pthreadpool-cpp.cc:90] Warning: Leaking Caffe2 thread-pool after fork. (function pthreadpool)\n",
            "[W pthreadpool-cpp.cc:90] Warning: Leaking Caffe2 thread-pool after fork. (function pthreadpool)\n",
            "Epoch 14/25: 100% 108/108 [03:06<00:00,  1.73s/it, f_score=0.622, lr=3.38e-5, s/step=1.7, total_loss=0.441]\n",
            "Start Validation\n",
            "Epoch 14/25:   0% 0/12 [00:00<?, ?it/s<class 'dict'>][W pthreadpool-cpp.cc:90] Warning: Leaking Caffe2 thread-pool after fork. (function pthreadpool)\n",
            "[W pthreadpool-cpp.cc:90] Warning: Leaking Caffe2 thread-pool after fork. (function pthreadpool)\n",
            "[W pthreadpool-cpp.cc:90] Warning: Leaking Caffe2 thread-pool after fork. (function pthreadpool)\n",
            "[W pthreadpool-cpp.cc:90] Warning: Leaking Caffe2 thread-pool after fork. (function pthreadpool)\n",
            "Epoch 14/25: 100% 12/12 [00:13<00:00,  1.16s/it, f_score=0.706, lr=3.38e-5, total_loss=0.358]\n",
            "Finish Validation\n",
            "Epoch:14/25\n",
            "Total Loss: 0.4371 || Val Loss: 0.3304 \n",
            "Saving state, iter: 14\n",
            "Epoch 15/25:   0% 0/108 [00:00<?, ?it/s<class 'dict'>]/usr/local/lib/python3.7/dist-packages/torch/utils/data/dataloader.py:481: UserWarning: This DataLoader will create 4 worker processes in total. Our suggested max number of worker in current system is 2, which is smaller than what this DataLoader is going to create. Please be aware that excessive worker creation might get DataLoader running slow or even freeze, lower the worker number to avoid potential slowness/freeze if necessary.\n",
            "  cpuset_checked))\n",
            "[W pthreadpool-cpp.cc:90] Warning: Leaking Caffe2 thread-pool after fork. (function pthreadpool)\n",
            "[W pthreadpool-cpp.cc:90] Warning: Leaking Caffe2 thread-pool after fork. (function pthreadpool)\n",
            "[W pthreadpool-cpp.cc:90] Warning: Leaking Caffe2 thread-pool after fork. (function pthreadpool)\n",
            "[W pthreadpool-cpp.cc:90] Warning: Leaking Caffe2 thread-pool after fork. (function pthreadpool)\n",
            "Epoch 15/25: 100% 108/108 [03:06<00:00,  1.73s/it, f_score=0.649, lr=3.11e-5, s/step=1.68, total_loss=0.411]\n",
            "Start Validation\n",
            "Epoch 15/25:   0% 0/12 [00:00<?, ?it/s<class 'dict'>][W pthreadpool-cpp.cc:90] Warning: Leaking Caffe2 thread-pool after fork. (function pthreadpool)\n",
            "[W pthreadpool-cpp.cc:90] Warning: Leaking Caffe2 thread-pool after fork. (function pthreadpool)\n",
            "[W pthreadpool-cpp.cc:90] Warning: Leaking Caffe2 thread-pool after fork. (function pthreadpool)\n",
            "[W pthreadpool-cpp.cc:90] Warning: Leaking Caffe2 thread-pool after fork. (function pthreadpool)\n",
            "Epoch 15/25: 100% 12/12 [00:13<00:00,  1.14s/it, f_score=0.725, lr=3.11e-5, total_loss=0.348]\n",
            "Finish Validation\n",
            "Epoch:15/25\n",
            "Total Loss: 0.4077 || Val Loss: 0.3211 \n",
            "Saving state, iter: 15\n",
            "Epoch 16/25:   0% 0/108 [00:00<?, ?it/s<class 'dict'>]/usr/local/lib/python3.7/dist-packages/torch/utils/data/dataloader.py:481: UserWarning: This DataLoader will create 4 worker processes in total. Our suggested max number of worker in current system is 2, which is smaller than what this DataLoader is going to create. Please be aware that excessive worker creation might get DataLoader running slow or even freeze, lower the worker number to avoid potential slowness/freeze if necessary.\n",
            "  cpuset_checked))\n",
            "[W pthreadpool-cpp.cc:90] Warning: Leaking Caffe2 thread-pool after fork. (function pthreadpool)\n",
            "[W pthreadpool-cpp.cc:90] Warning: Leaking Caffe2 thread-pool after fork. (function pthreadpool)\n",
            "[W pthreadpool-cpp.cc:90] Warning: Leaking Caffe2 thread-pool after fork. (function pthreadpool)\n",
            "[W pthreadpool-cpp.cc:90] Warning: Leaking Caffe2 thread-pool after fork. (function pthreadpool)\n",
            "Epoch 16/25: 100% 108/108 [03:05<00:00,  1.72s/it, f_score=0.669, lr=2.86e-5, s/step=1.68, total_loss=0.387]\n",
            "Start Validation\n",
            "Epoch 16/25:   0% 0/12 [00:00<?, ?it/s<class 'dict'>][W pthreadpool-cpp.cc:90] Warning: Leaking Caffe2 thread-pool after fork. (function pthreadpool)\n",
            "[W pthreadpool-cpp.cc:90] Warning: Leaking Caffe2 thread-pool after fork. (function pthreadpool)\n",
            "[W pthreadpool-cpp.cc:90] Warning: Leaking Caffe2 thread-pool after fork. (function pthreadpool)\n",
            "[W pthreadpool-cpp.cc:90] Warning: Leaking Caffe2 thread-pool after fork. (function pthreadpool)\n",
            "Epoch 16/25: 100% 12/12 [00:14<00:00,  1.19s/it, f_score=0.75, lr=2.86e-5, total_loss=0.308]\n",
            "Finish Validation\n",
            "Epoch:16/25\n",
            "Total Loss: 0.3839 || Val Loss: 0.2845 \n",
            "Saving state, iter: 16\n",
            "Epoch 17/25:   0% 0/108 [00:00<?, ?it/s<class 'dict'>]/usr/local/lib/python3.7/dist-packages/torch/utils/data/dataloader.py:481: UserWarning: This DataLoader will create 4 worker processes in total. Our suggested max number of worker in current system is 2, which is smaller than what this DataLoader is going to create. Please be aware that excessive worker creation might get DataLoader running slow or even freeze, lower the worker number to avoid potential slowness/freeze if necessary.\n",
            "  cpuset_checked))\n",
            "[W pthreadpool-cpp.cc:90] Warning: Leaking Caffe2 thread-pool after fork. (function pthreadpool)\n",
            "[W pthreadpool-cpp.cc:90] Warning: Leaking Caffe2 thread-pool after fork. (function pthreadpool)\n",
            "[W pthreadpool-cpp.cc:90] Warning: Leaking Caffe2 thread-pool after fork. (function pthreadpool)\n",
            "[W pthreadpool-cpp.cc:90] Warning: Leaking Caffe2 thread-pool after fork. (function pthreadpool)\n",
            "Epoch 17/25: 100% 108/108 [03:06<00:00,  1.72s/it, f_score=0.673, lr=2.63e-5, s/step=1.69, total_loss=0.384]\n",
            "Start Validation\n",
            "Epoch 17/25:   0% 0/12 [00:00<?, ?it/s<class 'dict'>][W pthreadpool-cpp.cc:90] Warning: Leaking Caffe2 thread-pool after fork. (function pthreadpool)\n",
            "[W pthreadpool-cpp.cc:90] Warning: Leaking Caffe2 thread-pool after fork. (function pthreadpool)\n",
            "[W pthreadpool-cpp.cc:90] Warning: Leaking Caffe2 thread-pool after fork. (function pthreadpool)\n",
            "[W pthreadpool-cpp.cc:90] Warning: Leaking Caffe2 thread-pool after fork. (function pthreadpool)\n",
            "Epoch 17/25: 100% 12/12 [00:13<00:00,  1.14s/it, f_score=0.761, lr=2.63e-5, total_loss=0.286]\n",
            "Finish Validation\n",
            "Epoch:17/25\n",
            "Total Loss: 0.3801 || Val Loss: 0.2644 \n",
            "Saving state, iter: 17\n",
            "Epoch 18/25:   0% 0/108 [00:00<?, ?it/s<class 'dict'>]/usr/local/lib/python3.7/dist-packages/torch/utils/data/dataloader.py:481: UserWarning: This DataLoader will create 4 worker processes in total. Our suggested max number of worker in current system is 2, which is smaller than what this DataLoader is going to create. Please be aware that excessive worker creation might get DataLoader running slow or even freeze, lower the worker number to avoid potential slowness/freeze if necessary.\n",
            "  cpuset_checked))\n",
            "[W pthreadpool-cpp.cc:90] Warning: Leaking Caffe2 thread-pool after fork. (function pthreadpool)\n",
            "[W pthreadpool-cpp.cc:90] Warning: Leaking Caffe2 thread-pool after fork. (function pthreadpool)\n",
            "[W pthreadpool-cpp.cc:90] Warning: Leaking Caffe2 thread-pool after fork. (function pthreadpool)\n",
            "[W pthreadpool-cpp.cc:90] Warning: Leaking Caffe2 thread-pool after fork. (function pthreadpool)\n",
            "Epoch 18/25: 100% 108/108 [03:05<00:00,  1.72s/it, f_score=0.693, lr=2.42e-5, s/step=1.69, total_loss=0.359]\n",
            "Start Validation\n",
            "Epoch 18/25:   0% 0/12 [00:00<?, ?it/s<class 'dict'>][W pthreadpool-cpp.cc:90] Warning: Leaking Caffe2 thread-pool after fork. (function pthreadpool)\n",
            "[W pthreadpool-cpp.cc:90] Warning: Leaking Caffe2 thread-pool after fork. (function pthreadpool)\n",
            "[W pthreadpool-cpp.cc:90] Warning: Leaking Caffe2 thread-pool after fork. (function pthreadpool)\n",
            "[W pthreadpool-cpp.cc:90] Warning: Leaking Caffe2 thread-pool after fork. (function pthreadpool)\n",
            "Epoch 18/25: 100% 12/12 [00:14<00:00,  1.18s/it, f_score=0.755, lr=2.42e-5, total_loss=0.308]\n",
            "Finish Validation\n",
            "Epoch:18/25\n",
            "Total Loss: 0.3561 || Val Loss: 0.2842 \n",
            "Saving state, iter: 18\n",
            "Epoch 19/25:   0% 0/108 [00:00<?, ?it/s<class 'dict'>]/usr/local/lib/python3.7/dist-packages/torch/utils/data/dataloader.py:481: UserWarning: This DataLoader will create 4 worker processes in total. Our suggested max number of worker in current system is 2, which is smaller than what this DataLoader is going to create. Please be aware that excessive worker creation might get DataLoader running slow or even freeze, lower the worker number to avoid potential slowness/freeze if necessary.\n",
            "  cpuset_checked))\n",
            "[W pthreadpool-cpp.cc:90] Warning: Leaking Caffe2 thread-pool after fork. (function pthreadpool)\n",
            "[W pthreadpool-cpp.cc:90] Warning: Leaking Caffe2 thread-pool after fork. (function pthreadpool)\n",
            "[W pthreadpool-cpp.cc:90] Warning: Leaking Caffe2 thread-pool after fork. (function pthreadpool)\n",
            "[W pthreadpool-cpp.cc:90] Warning: Leaking Caffe2 thread-pool after fork. (function pthreadpool)\n",
            "Epoch 19/25: 100% 108/108 [03:05<00:00,  1.72s/it, f_score=0.711, lr=2.23e-5, s/step=1.7, total_loss=0.344]\n",
            "Start Validation\n",
            "Epoch 19/25:   0% 0/12 [00:00<?, ?it/s<class 'dict'>][W pthreadpool-cpp.cc:90] Warning: Leaking Caffe2 thread-pool after fork. (function pthreadpool)\n",
            "[W pthreadpool-cpp.cc:90] Warning: Leaking Caffe2 thread-pool after fork. (function pthreadpool)\n",
            "[W pthreadpool-cpp.cc:90] Warning: Leaking Caffe2 thread-pool after fork. (function pthreadpool)\n",
            "[W pthreadpool-cpp.cc:90] Warning: Leaking Caffe2 thread-pool after fork. (function pthreadpool)\n",
            "Epoch 19/25: 100% 12/12 [00:14<00:00,  1.18s/it, f_score=0.772, lr=2.23e-5, total_loss=0.287]\n",
            "Finish Validation\n",
            "Epoch:19/25\n",
            "Total Loss: 0.3404 || Val Loss: 0.2651 \n",
            "Saving state, iter: 19\n",
            "Epoch 20/25:   0% 0/108 [00:00<?, ?it/s<class 'dict'>]/usr/local/lib/python3.7/dist-packages/torch/utils/data/dataloader.py:481: UserWarning: This DataLoader will create 4 worker processes in total. Our suggested max number of worker in current system is 2, which is smaller than what this DataLoader is going to create. Please be aware that excessive worker creation might get DataLoader running slow or even freeze, lower the worker number to avoid potential slowness/freeze if necessary.\n",
            "  cpuset_checked))\n",
            "[W pthreadpool-cpp.cc:90] Warning: Leaking Caffe2 thread-pool after fork. (function pthreadpool)\n",
            "[W pthreadpool-cpp.cc:90] Warning: Leaking Caffe2 thread-pool after fork. (function pthreadpool)\n",
            "[W pthreadpool-cpp.cc:90] Warning: Leaking Caffe2 thread-pool after fork. (function pthreadpool)\n",
            "[W pthreadpool-cpp.cc:90] Warning: Leaking Caffe2 thread-pool after fork. (function pthreadpool)\n",
            "Epoch 20/25: 100% 108/108 [03:06<00:00,  1.73s/it, f_score=0.717, lr=2.05e-5, s/step=1.68, total_loss=0.336]\n",
            "Start Validation\n",
            "Epoch 20/25:   0% 0/12 [00:00<?, ?it/s<class 'dict'>][W pthreadpool-cpp.cc:90] Warning: Leaking Caffe2 thread-pool after fork. (function pthreadpool)\n",
            "[W pthreadpool-cpp.cc:90] Warning: Leaking Caffe2 thread-pool after fork. (function pthreadpool)\n",
            "[W pthreadpool-cpp.cc:90] Warning: Leaking Caffe2 thread-pool after fork. (function pthreadpool)\n",
            "[W pthreadpool-cpp.cc:90] Warning: Leaking Caffe2 thread-pool after fork. (function pthreadpool)\n",
            "Epoch 20/25: 100% 12/12 [00:14<00:00,  1.17s/it, f_score=0.792, lr=2.05e-5, total_loss=0.255]\n",
            "Finish Validation\n",
            "Epoch:20/25\n",
            "Total Loss: 0.3334 || Val Loss: 0.2353 \n",
            "Saving state, iter: 20\n",
            "Epoch 21/25:   0% 0/108 [00:00<?, ?it/s<class 'dict'>]/usr/local/lib/python3.7/dist-packages/torch/utils/data/dataloader.py:481: UserWarning: This DataLoader will create 4 worker processes in total. Our suggested max number of worker in current system is 2, which is smaller than what this DataLoader is going to create. Please be aware that excessive worker creation might get DataLoader running slow or even freeze, lower the worker number to avoid potential slowness/freeze if necessary.\n",
            "  cpuset_checked))\n",
            "[W pthreadpool-cpp.cc:90] Warning: Leaking Caffe2 thread-pool after fork. (function pthreadpool)\n",
            "[W pthreadpool-cpp.cc:90] Warning: Leaking Caffe2 thread-pool after fork. (function pthreadpool)\n",
            "[W pthreadpool-cpp.cc:90] Warning: Leaking Caffe2 thread-pool after fork. (function pthreadpool)\n",
            "[W pthreadpool-cpp.cc:90] Warning: Leaking Caffe2 thread-pool after fork. (function pthreadpool)\n",
            "Epoch 21/25: 100% 108/108 [03:06<00:00,  1.73s/it, f_score=0.719, lr=1.89e-5, s/step=1.67, total_loss=0.34]\n",
            "Start Validation\n",
            "Epoch 21/25:   0% 0/12 [00:00<?, ?it/s<class 'dict'>][W pthreadpool-cpp.cc:90] Warning: Leaking Caffe2 thread-pool after fork. (function pthreadpool)\n",
            "[W pthreadpool-cpp.cc:90] Warning: Leaking Caffe2 thread-pool after fork. (function pthreadpool)\n",
            "[W pthreadpool-cpp.cc:90] Warning: Leaking Caffe2 thread-pool after fork. (function pthreadpool)\n",
            "[W pthreadpool-cpp.cc:90] Warning: Leaking Caffe2 thread-pool after fork. (function pthreadpool)\n",
            "Epoch 21/25: 100% 12/12 [00:14<00:00,  1.19s/it, f_score=0.789, lr=1.89e-5, total_loss=0.272]\n",
            "/content/drive/MyDrive/Unet-pytorch/unet/nets/unet_training.py:70: RuntimeWarning: More than 20 figures have been opened. Figures created through the pyplot interface (`matplotlib.pyplot.figure`) are retained until explicitly closed and may consume too much memory. (To control this warning, see the rcParam `figure.max_open_warning`).\n",
            "  plt.figure()\n",
            "Finish Validation\n",
            "Epoch:21/25\n",
            "Total Loss: 0.3369 || Val Loss: 0.2515 \n",
            "Saving state, iter: 21\n",
            "Epoch 22/25:   0% 0/108 [00:00<?, ?it/s<class 'dict'>]/usr/local/lib/python3.7/dist-packages/torch/utils/data/dataloader.py:481: UserWarning: This DataLoader will create 4 worker processes in total. Our suggested max number of worker in current system is 2, which is smaller than what this DataLoader is going to create. Please be aware that excessive worker creation might get DataLoader running slow or even freeze, lower the worker number to avoid potential slowness/freeze if necessary.\n",
            "  cpuset_checked))\n",
            "[W pthreadpool-cpp.cc:90] Warning: Leaking Caffe2 thread-pool after fork. (function pthreadpool)\n",
            "[W pthreadpool-cpp.cc:90] Warning: Leaking Caffe2 thread-pool after fork. (function pthreadpool)\n",
            "[W pthreadpool-cpp.cc:90] Warning: Leaking Caffe2 thread-pool after fork. (function pthreadpool)\n",
            "[W pthreadpool-cpp.cc:90] Warning: Leaking Caffe2 thread-pool after fork. (function pthreadpool)\n",
            "Epoch 22/25: 100% 108/108 [03:06<00:00,  1.73s/it, f_score=0.746, lr=1.74e-5, s/step=1.7, total_loss=0.312]\n",
            "Start Validation\n",
            "Epoch 22/25:   0% 0/12 [00:00<?, ?it/s<class 'dict'>][W pthreadpool-cpp.cc:90] Warning: Leaking Caffe2 thread-pool after fork. (function pthreadpool)\n",
            "[W pthreadpool-cpp.cc:90] Warning: Leaking Caffe2 thread-pool after fork. (function pthreadpool)\n",
            "[W pthreadpool-cpp.cc:90] Warning: Leaking Caffe2 thread-pool after fork. (function pthreadpool)\n",
            "[W pthreadpool-cpp.cc:90] Warning: Leaking Caffe2 thread-pool after fork. (function pthreadpool)\n",
            "Epoch 22/25: 100% 12/12 [00:13<00:00,  1.17s/it, f_score=0.798, lr=1.74e-5, total_loss=0.254]\n",
            "/content/drive/MyDrive/Unet-pytorch/unet/nets/unet_training.py:70: RuntimeWarning: More than 20 figures have been opened. Figures created through the pyplot interface (`matplotlib.pyplot.figure`) are retained until explicitly closed and may consume too much memory. (To control this warning, see the rcParam `figure.max_open_warning`).\n",
            "  plt.figure()\n",
            "Finish Validation\n",
            "Epoch:22/25\n",
            "Total Loss: 0.3089 || Val Loss: 0.2347 \n",
            "Saving state, iter: 22\n",
            "Epoch 23/25:   0% 0/108 [00:00<?, ?it/s<class 'dict'>]/usr/local/lib/python3.7/dist-packages/torch/utils/data/dataloader.py:481: UserWarning: This DataLoader will create 4 worker processes in total. Our suggested max number of worker in current system is 2, which is smaller than what this DataLoader is going to create. Please be aware that excessive worker creation might get DataLoader running slow or even freeze, lower the worker number to avoid potential slowness/freeze if necessary.\n",
            "  cpuset_checked))\n",
            "[W pthreadpool-cpp.cc:90] Warning: Leaking Caffe2 thread-pool after fork. (function pthreadpool)\n",
            "[W pthreadpool-cpp.cc:90] Warning: Leaking Caffe2 thread-pool after fork. (function pthreadpool)\n",
            "[W pthreadpool-cpp.cc:90] Warning: Leaking Caffe2 thread-pool after fork. (function pthreadpool)\n",
            "[W pthreadpool-cpp.cc:90] Warning: Leaking Caffe2 thread-pool after fork. (function pthreadpool)\n",
            "Epoch 23/25: 100% 108/108 [03:06<00:00,  1.72s/it, f_score=0.739, lr=1.6e-5, s/step=1.7, total_loss=0.311]\n",
            "Start Validation\n",
            "Epoch 23/25:   0% 0/12 [00:00<?, ?it/s<class 'dict'>][W pthreadpool-cpp.cc:90] Warning: Leaking Caffe2 thread-pool after fork. (function pthreadpool)\n",
            "[W pthreadpool-cpp.cc:90] Warning: Leaking Caffe2 thread-pool after fork. (function pthreadpool)\n",
            "[W pthreadpool-cpp.cc:90] Warning: Leaking Caffe2 thread-pool after fork. (function pthreadpool)\n",
            "[W pthreadpool-cpp.cc:90] Warning: Leaking Caffe2 thread-pool after fork. (function pthreadpool)\n",
            "Epoch 23/25: 100% 12/12 [00:14<00:00,  1.18s/it, f_score=0.797, lr=1.6e-5, total_loss=0.25]\n",
            "/content/drive/MyDrive/Unet-pytorch/unet/nets/unet_training.py:70: RuntimeWarning: More than 20 figures have been opened. Figures created through the pyplot interface (`matplotlib.pyplot.figure`) are retained until explicitly closed and may consume too much memory. (To control this warning, see the rcParam `figure.max_open_warning`).\n",
            "  plt.figure()\n",
            "Finish Validation\n",
            "Epoch:23/25\n",
            "Total Loss: 0.3085 || Val Loss: 0.2307 \n",
            "Saving state, iter: 23\n",
            "Epoch 24/25:   0% 0/108 [00:00<?, ?it/s<class 'dict'>]/usr/local/lib/python3.7/dist-packages/torch/utils/data/dataloader.py:481: UserWarning: This DataLoader will create 4 worker processes in total. Our suggested max number of worker in current system is 2, which is smaller than what this DataLoader is going to create. Please be aware that excessive worker creation might get DataLoader running slow or even freeze, lower the worker number to avoid potential slowness/freeze if necessary.\n",
            "  cpuset_checked))\n",
            "[W pthreadpool-cpp.cc:90] Warning: Leaking Caffe2 thread-pool after fork. (function pthreadpool)\n",
            "[W pthreadpool-cpp.cc:90] Warning: Leaking Caffe2 thread-pool after fork. (function pthreadpool)\n",
            "[W pthreadpool-cpp.cc:90] Warning: Leaking Caffe2 thread-pool after fork. (function pthreadpool)\n",
            "[W pthreadpool-cpp.cc:90] Warning: Leaking Caffe2 thread-pool after fork. (function pthreadpool)\n",
            "Epoch 24/25: 100% 108/108 [03:05<00:00,  1.72s/it, f_score=0.744, lr=1.47e-5, s/step=1.7, total_loss=0.306]\n",
            "Start Validation\n",
            "Epoch 24/25:   0% 0/12 [00:00<?, ?it/s<class 'dict'>][W pthreadpool-cpp.cc:90] Warning: Leaking Caffe2 thread-pool after fork. (function pthreadpool)\n",
            "[W pthreadpool-cpp.cc:90] Warning: Leaking Caffe2 thread-pool after fork. (function pthreadpool)\n",
            "[W pthreadpool-cpp.cc:90] Warning: Leaking Caffe2 thread-pool after fork. (function pthreadpool)\n",
            "[W pthreadpool-cpp.cc:90] Warning: Leaking Caffe2 thread-pool after fork. (function pthreadpool)\n",
            "Epoch 24/25: 100% 12/12 [00:13<00:00,  1.13s/it, f_score=0.807, lr=1.47e-5, total_loss=0.236]\n",
            "/content/drive/MyDrive/Unet-pytorch/unet/nets/unet_training.py:70: RuntimeWarning: More than 20 figures have been opened. Figures created through the pyplot interface (`matplotlib.pyplot.figure`) are retained until explicitly closed and may consume too much memory. (To control this warning, see the rcParam `figure.max_open_warning`).\n",
            "  plt.figure()\n",
            "Finish Validation\n",
            "Epoch:24/25\n",
            "Total Loss: 0.3034 || Val Loss: 0.2181 \n",
            "Saving state, iter: 24\n",
            "Epoch 25/25:   0% 0/108 [00:00<?, ?it/s<class 'dict'>]/usr/local/lib/python3.7/dist-packages/torch/utils/data/dataloader.py:481: UserWarning: This DataLoader will create 4 worker processes in total. Our suggested max number of worker in current system is 2, which is smaller than what this DataLoader is going to create. Please be aware that excessive worker creation might get DataLoader running slow or even freeze, lower the worker number to avoid potential slowness/freeze if necessary.\n",
            "  cpuset_checked))\n",
            "[W pthreadpool-cpp.cc:90] Warning: Leaking Caffe2 thread-pool after fork. (function pthreadpool)\n",
            "[W pthreadpool-cpp.cc:90] Warning: Leaking Caffe2 thread-pool after fork. (function pthreadpool)\n",
            "[W pthreadpool-cpp.cc:90] Warning: Leaking Caffe2 thread-pool after fork. (function pthreadpool)\n",
            "[W pthreadpool-cpp.cc:90] Warning: Leaking Caffe2 thread-pool after fork. (function pthreadpool)\n",
            "Epoch 25/25: 100% 108/108 [03:06<00:00,  1.73s/it, f_score=0.736, lr=1.35e-5, s/step=1.7, total_loss=0.314]\n",
            "Start Validation\n",
            "Epoch 25/25:   0% 0/12 [00:00<?, ?it/s<class 'dict'>][W pthreadpool-cpp.cc:90] Warning: Leaking Caffe2 thread-pool after fork. (function pthreadpool)\n",
            "[W pthreadpool-cpp.cc:90] Warning: Leaking Caffe2 thread-pool after fork. (function pthreadpool)\n",
            "[W pthreadpool-cpp.cc:90] Warning: Leaking Caffe2 thread-pool after fork. (function pthreadpool)\n",
            "[W pthreadpool-cpp.cc:90] Warning: Leaking Caffe2 thread-pool after fork. (function pthreadpool)\n",
            "Epoch 25/25: 100% 12/12 [00:14<00:00,  1.18s/it, f_score=0.812, lr=1.35e-5, total_loss=0.235]\n",
            "/content/drive/MyDrive/Unet-pytorch/unet/nets/unet_training.py:70: RuntimeWarning: More than 20 figures have been opened. Figures created through the pyplot interface (`matplotlib.pyplot.figure`) are retained until explicitly closed and may consume too much memory. (To control this warning, see the rcParam `figure.max_open_warning`).\n",
            "  plt.figure()\n",
            "Finish Validation\n",
            "Epoch:25/25\n",
            "Total Loss: 0.3115 || Val Loss: 0.2166 \n",
            "Saving state, iter: 25\n",
            "/usr/local/lib/python3.7/dist-packages/torch/utils/data/dataloader.py:481: UserWarning: This DataLoader will create 4 worker processes in total. Our suggested max number of worker in current system is 2, which is smaller than what this DataLoader is going to create. Please be aware that excessive worker creation might get DataLoader running slow or even freeze, lower the worker number to avoid potential slowness/freeze if necessary.\n",
            "  cpuset_checked))\n",
            "Epoch 26/50:   0% 0/108 [00:00<?, ?it/s<class 'dict'>][W pthreadpool-cpp.cc:90] Warning: Leaking Caffe2 thread-pool after fork. (function pthreadpool)\n",
            "[W pthreadpool-cpp.cc:90] Warning: Leaking Caffe2 thread-pool after fork. (function pthreadpool)\n",
            "[W pthreadpool-cpp.cc:90] Warning: Leaking Caffe2 thread-pool after fork. (function pthreadpool)\n",
            "[W pthreadpool-cpp.cc:90] Warning: Leaking Caffe2 thread-pool after fork. (function pthreadpool)\n",
            "Epoch 26/50: 100% 108/108 [04:01<00:00,  2.23s/it, f_score=0.473, lr=1e-5, s/step=2.2, total_loss=0.99]\n",
            "Start Validation\n",
            "Epoch 26/50:   0% 0/12 [00:00<?, ?it/s<class 'dict'>][W pthreadpool-cpp.cc:90] Warning: Leaking Caffe2 thread-pool after fork. (function pthreadpool)\n",
            "[W pthreadpool-cpp.cc:90] Warning: Leaking Caffe2 thread-pool after fork. (function pthreadpool)\n",
            "[W pthreadpool-cpp.cc:90] Warning: Leaking Caffe2 thread-pool after fork. (function pthreadpool)\n",
            "[W pthreadpool-cpp.cc:90] Warning: Leaking Caffe2 thread-pool after fork. (function pthreadpool)\n",
            "Epoch 26/50: 100% 12/12 [00:14<00:00,  1.20s/it, f_score=0.65, lr=1e-5, total_loss=0.378]\n",
            "/content/drive/MyDrive/Unet-pytorch/unet/nets/unet_training.py:70: RuntimeWarning: More than 20 figures have been opened. Figures created through the pyplot interface (`matplotlib.pyplot.figure`) are retained until explicitly closed and may consume too much memory. (To control this warning, see the rcParam `figure.max_open_warning`).\n",
            "  plt.figure()\n",
            "Finish Validation\n",
            "Epoch:26/50\n",
            "Total Loss: 0.9809 || Val Loss: 0.3488 \n",
            "Saving state, iter: 26\n",
            "Epoch 27/50:   0% 0/108 [00:00<?, ?it/s<class 'dict'>]/usr/local/lib/python3.7/dist-packages/torch/utils/data/dataloader.py:481: UserWarning: This DataLoader will create 4 worker processes in total. Our suggested max number of worker in current system is 2, which is smaller than what this DataLoader is going to create. Please be aware that excessive worker creation might get DataLoader running slow or even freeze, lower the worker number to avoid potential slowness/freeze if necessary.\n",
            "  cpuset_checked))\n",
            "[W pthreadpool-cpp.cc:90] Warning: Leaking Caffe2 thread-pool after fork. (function pthreadpool)\n",
            "[W pthreadpool-cpp.cc:90] Warning: Leaking Caffe2 thread-pool after fork. (function pthreadpool)\n",
            "[W pthreadpool-cpp.cc:90] Warning: Leaking Caffe2 thread-pool after fork. (function pthreadpool)\n",
            "[W pthreadpool-cpp.cc:90] Warning: Leaking Caffe2 thread-pool after fork. (function pthreadpool)\n",
            "Epoch 27/50: 100% 108/108 [04:00<00:00,  2.23s/it, f_score=0.703, lr=9.2e-6, s/step=2.21, total_loss=0.363]\n",
            "Start Validation\n",
            "Epoch 27/50:   0% 0/12 [00:00<?, ?it/s<class 'dict'>][W pthreadpool-cpp.cc:90] Warning: Leaking Caffe2 thread-pool after fork. (function pthreadpool)\n",
            "[W pthreadpool-cpp.cc:90] Warning: Leaking Caffe2 thread-pool after fork. (function pthreadpool)\n",
            "[W pthreadpool-cpp.cc:90] Warning: Leaking Caffe2 thread-pool after fork. (function pthreadpool)\n",
            "[W pthreadpool-cpp.cc:90] Warning: Leaking Caffe2 thread-pool after fork. (function pthreadpool)\n",
            "Epoch 27/50: 100% 12/12 [00:12<00:00,  1.08s/it, f_score=0.811, lr=9.2e-6, total_loss=0.268]\n",
            "/content/drive/MyDrive/Unet-pytorch/unet/nets/unet_training.py:70: RuntimeWarning: More than 20 figures have been opened. Figures created through the pyplot interface (`matplotlib.pyplot.figure`) are retained until explicitly closed and may consume too much memory. (To control this warning, see the rcParam `figure.max_open_warning`).\n",
            "  plt.figure()\n",
            "Finish Validation\n",
            "Epoch:27/50\n",
            "Total Loss: 0.3596 || Val Loss: 0.2471 \n",
            "Saving state, iter: 27\n",
            "Epoch 28/50:   0% 0/108 [00:00<?, ?it/s<class 'dict'>]/usr/local/lib/python3.7/dist-packages/torch/utils/data/dataloader.py:481: UserWarning: This DataLoader will create 4 worker processes in total. Our suggested max number of worker in current system is 2, which is smaller than what this DataLoader is going to create. Please be aware that excessive worker creation might get DataLoader running slow or even freeze, lower the worker number to avoid potential slowness/freeze if necessary.\n",
            "  cpuset_checked))\n",
            "[W pthreadpool-cpp.cc:90] Warning: Leaking Caffe2 thread-pool after fork. (function pthreadpool)\n",
            "[W pthreadpool-cpp.cc:90] Warning: Leaking Caffe2 thread-pool after fork. (function pthreadpool)\n",
            "[W pthreadpool-cpp.cc:90] Warning: Leaking Caffe2 thread-pool after fork. (function pthreadpool)\n",
            "[W pthreadpool-cpp.cc:90] Warning: Leaking Caffe2 thread-pool after fork. (function pthreadpool)\n",
            "Epoch 28/50: 100% 108/108 [04:00<00:00,  2.23s/it, f_score=0.735, lr=8.46e-6, s/step=2.22, total_loss=0.325]\n",
            "Start Validation\n",
            "Epoch 28/50:   0% 0/12 [00:00<?, ?it/s<class 'dict'>][W pthreadpool-cpp.cc:90] Warning: Leaking Caffe2 thread-pool after fork. (function pthreadpool)\n",
            "[W pthreadpool-cpp.cc:90] Warning: Leaking Caffe2 thread-pool after fork. (function pthreadpool)\n",
            "[W pthreadpool-cpp.cc:90] Warning: Leaking Caffe2 thread-pool after fork. (function pthreadpool)\n",
            "[W pthreadpool-cpp.cc:90] Warning: Leaking Caffe2 thread-pool after fork. (function pthreadpool)\n",
            "Epoch 28/50: 100% 12/12 [00:13<00:00,  1.12s/it, f_score=0.795, lr=8.46e-6, total_loss=0.259]\n",
            "/content/drive/MyDrive/Unet-pytorch/unet/nets/unet_training.py:70: RuntimeWarning: More than 20 figures have been opened. Figures created through the pyplot interface (`matplotlib.pyplot.figure`) are retained until explicitly closed and may consume too much memory. (To control this warning, see the rcParam `figure.max_open_warning`).\n",
            "  plt.figure()\n",
            "Finish Validation\n",
            "Epoch:28/50\n",
            "Total Loss: 0.3215 || Val Loss: 0.2394 \n",
            "Saving state, iter: 28\n",
            "Epoch 29/50:   0% 0/108 [00:00<?, ?it/s<class 'dict'>]/usr/local/lib/python3.7/dist-packages/torch/utils/data/dataloader.py:481: UserWarning: This DataLoader will create 4 worker processes in total. Our suggested max number of worker in current system is 2, which is smaller than what this DataLoader is going to create. Please be aware that excessive worker creation might get DataLoader running slow or even freeze, lower the worker number to avoid potential slowness/freeze if necessary.\n",
            "  cpuset_checked))\n",
            "[W pthreadpool-cpp.cc:90] Warning: Leaking Caffe2 thread-pool after fork. (function pthreadpool)\n",
            "[W pthreadpool-cpp.cc:90] Warning: Leaking Caffe2 thread-pool after fork. (function pthreadpool)\n",
            "[W pthreadpool-cpp.cc:90] Warning: Leaking Caffe2 thread-pool after fork. (function pthreadpool)\n",
            "[W pthreadpool-cpp.cc:90] Warning: Leaking Caffe2 thread-pool after fork. (function pthreadpool)\n",
            "Epoch 29/50: 100% 108/108 [04:01<00:00,  2.23s/it, f_score=0.754, lr=7.79e-6, s/step=2.2, total_loss=0.298]\n",
            "Start Validation\n",
            "Epoch 29/50:   0% 0/12 [00:00<?, ?it/s<class 'dict'>][W pthreadpool-cpp.cc:90] Warning: Leaking Caffe2 thread-pool after fork. (function pthreadpool)\n",
            "[W pthreadpool-cpp.cc:90] Warning: Leaking Caffe2 thread-pool after fork. (function pthreadpool)\n",
            "[W pthreadpool-cpp.cc:90] Warning: Leaking Caffe2 thread-pool after fork. (function pthreadpool)\n",
            "[W pthreadpool-cpp.cc:90] Warning: Leaking Caffe2 thread-pool after fork. (function pthreadpool)\n",
            "Epoch 29/50: 100% 12/12 [00:13<00:00,  1.15s/it, f_score=0.831, lr=7.79e-6, total_loss=0.221]\n",
            "/content/drive/MyDrive/Unet-pytorch/unet/nets/unet_training.py:70: RuntimeWarning: More than 20 figures have been opened. Figures created through the pyplot interface (`matplotlib.pyplot.figure`) are retained until explicitly closed and may consume too much memory. (To control this warning, see the rcParam `figure.max_open_warning`).\n",
            "  plt.figure()\n",
            "Finish Validation\n",
            "Epoch:29/50\n",
            "Total Loss: 0.2955 || Val Loss: 0.2036 \n",
            "Saving state, iter: 29\n",
            "Epoch 30/50:   0% 0/108 [00:00<?, ?it/s<class 'dict'>]/usr/local/lib/python3.7/dist-packages/torch/utils/data/dataloader.py:481: UserWarning: This DataLoader will create 4 worker processes in total. Our suggested max number of worker in current system is 2, which is smaller than what this DataLoader is going to create. Please be aware that excessive worker creation might get DataLoader running slow or even freeze, lower the worker number to avoid potential slowness/freeze if necessary.\n",
            "  cpuset_checked))\n",
            "[W pthreadpool-cpp.cc:90] Warning: Leaking Caffe2 thread-pool after fork. (function pthreadpool)\n",
            "[W pthreadpool-cpp.cc:90] Warning: Leaking Caffe2 thread-pool after fork. (function pthreadpool)\n",
            "[W pthreadpool-cpp.cc:90] Warning: Leaking Caffe2 thread-pool after fork. (function pthreadpool)\n",
            "[W pthreadpool-cpp.cc:90] Warning: Leaking Caffe2 thread-pool after fork. (function pthreadpool)\n",
            "Epoch 30/50: 100% 108/108 [04:01<00:00,  2.23s/it, f_score=0.782, lr=7.16e-6, s/step=2.21, total_loss=0.264]\n",
            "Start Validation\n",
            "Epoch 30/50:   0% 0/12 [00:00<?, ?it/s<class 'dict'>][W pthreadpool-cpp.cc:90] Warning: Leaking Caffe2 thread-pool after fork. (function pthreadpool)\n",
            "[W pthreadpool-cpp.cc:90] Warning: Leaking Caffe2 thread-pool after fork. (function pthreadpool)\n",
            "[W pthreadpool-cpp.cc:90] Warning: Leaking Caffe2 thread-pool after fork. (function pthreadpool)\n",
            "[W pthreadpool-cpp.cc:90] Warning: Leaking Caffe2 thread-pool after fork. (function pthreadpool)\n",
            "Epoch 30/50: 100% 12/12 [00:14<00:00,  1.17s/it, f_score=0.826, lr=7.16e-6, total_loss=0.226]\n",
            "/content/drive/MyDrive/Unet-pytorch/unet/nets/unet_training.py:70: RuntimeWarning: More than 20 figures have been opened. Figures created through the pyplot interface (`matplotlib.pyplot.figure`) are retained until explicitly closed and may consume too much memory. (To control this warning, see the rcParam `figure.max_open_warning`).\n",
            "  plt.figure()\n",
            "Finish Validation\n",
            "Epoch:30/50\n",
            "Total Loss: 0.2620 || Val Loss: 0.2089 \n",
            "Saving state, iter: 30\n",
            "Epoch 31/50:   0% 0/108 [00:00<?, ?it/s<class 'dict'>]/usr/local/lib/python3.7/dist-packages/torch/utils/data/dataloader.py:481: UserWarning: This DataLoader will create 4 worker processes in total. Our suggested max number of worker in current system is 2, which is smaller than what this DataLoader is going to create. Please be aware that excessive worker creation might get DataLoader running slow or even freeze, lower the worker number to avoid potential slowness/freeze if necessary.\n",
            "  cpuset_checked))\n",
            "[W pthreadpool-cpp.cc:90] Warning: Leaking Caffe2 thread-pool after fork. (function pthreadpool)\n",
            "[W pthreadpool-cpp.cc:90] Warning: Leaking Caffe2 thread-pool after fork. (function pthreadpool)\n",
            "[W pthreadpool-cpp.cc:90] Warning: Leaking Caffe2 thread-pool after fork. (function pthreadpool)\n",
            "[W pthreadpool-cpp.cc:90] Warning: Leaking Caffe2 thread-pool after fork. (function pthreadpool)\n",
            "Epoch 31/50:  85% 92/108 [03:25<00:35,  2.19s/it, f_score=0.785, lr=6.59e-6, s/step=2.18, total_loss=0.257]"
          ],
          "name": "stdout"
        }
      ]
    },
    {
      "cell_type": "code",
      "metadata": {
        "colab": {
          "base_uri": "https://localhost:8080/"
        },
        "id": "wHKC-XBiutb4",
        "outputId": "cd94adbf-6a2f-44f3-b8b0-dd8bcda2396b"
      },
      "source": [
        "cd .."
      ],
      "execution_count": null,
      "outputs": [
        {
          "output_type": "stream",
          "text": [
            "/content\n"
          ],
          "name": "stdout"
        }
      ]
    },
    {
      "cell_type": "code",
      "metadata": {
        "id": "PF_KGttusZbC"
      },
      "source": [
        "import torch\n",
        "device = torch.device('cuda' if torch.cuda.is_available() else 'cpu')"
      ],
      "execution_count": null,
      "outputs": []
    },
    {
      "cell_type": "code",
      "metadata": {
        "colab": {
          "base_uri": "https://localhost:8080/"
        },
        "id": "AdXTmhQiscMl",
        "outputId": "03d2dc58-5daa-4f20-a016-1f3b22f6a832"
      },
      "source": [
        "device"
      ],
      "execution_count": null,
      "outputs": [
        {
          "output_type": "execute_result",
          "data": {
            "text/plain": [
              "device(type='cuda')"
            ]
          },
          "metadata": {
            "tags": []
          },
          "execution_count": 27
        }
      ]
    },
    {
      "cell_type": "code",
      "metadata": {
        "id": "k-SIJRRWseBH"
      },
      "source": [
        "x = torch.tensor([1, 2, 3], device=device)"
      ],
      "execution_count": null,
      "outputs": []
    },
    {
      "cell_type": "code",
      "metadata": {
        "colab": {
          "base_uri": "https://localhost:8080/"
        },
        "id": "VzAjfIROs88L",
        "outputId": "867f72f9-86d9-4b99-af89-ec7a8d5fd383"
      },
      "source": [
        "x"
      ],
      "execution_count": null,
      "outputs": [
        {
          "output_type": "execute_result",
          "data": {
            "text/plain": [
              "tensor([1, 2, 3], device='cuda:0')"
            ]
          },
          "metadata": {
            "tags": []
          },
          "execution_count": 29
        }
      ]
    },
    {
      "cell_type": "code",
      "metadata": {
        "id": "60it6XA8s-ir"
      },
      "source": [
        "!apt install psmisc\n",
        "!sudo fuser /dev/nvidia*\n",
        "!kill -9 [pid]"
      ],
      "execution_count": null,
      "outputs": []
    },
    {
      "cell_type": "code",
      "metadata": {
        "colab": {
          "base_uri": "https://localhost:8080/"
        },
        "id": "xVBolObdvpnK",
        "outputId": "9206da6d-ae64-4e05-98f6-7939dc361934"
      },
      "source": [
        "cd unet/"
      ],
      "execution_count": null,
      "outputs": [
        {
          "output_type": "stream",
          "text": [
            "/content/unet\n"
          ],
          "name": "stdout"
        }
      ]
    },
    {
      "cell_type": "code",
      "metadata": {
        "id": "gabA8VjYvrxR"
      },
      "source": [
        "import torch\n",
        "from torch import nn\n",
        "\n",
        "print(f\"\\n cuda is available:　{torch.cuda.is_available()}\",\n",
        "      f\"\\n device count     :  {torch.cuda.device_count()}\",\n",
        "      f\"\\n device name      :  {torch.cuda.get_device_name(0)}\",)\n"
      ],
      "execution_count": null,
      "outputs": []
    },
    {
      "cell_type": "code",
      "metadata": {
        "id": "-uTf01TnwKzd"
      },
      "source": [
        "!python train.py"
      ],
      "execution_count": null,
      "outputs": []
    },
    {
      "cell_type": "code",
      "metadata": {
        "id": "ZRjkbpbbwQC4"
      },
      "source": [
        "!cp /content/drive/MyDrive/Unet-pytorch/unet/logs/Epoch30-Total_Loss0.2620-Val_Loss0.2089.pth /content/drive/MyDrive/Unet-pytorch/unet/model_data/xinpian1.pth"
      ],
      "execution_count": null,
      "outputs": []
    },
    {
      "cell_type": "code",
      "metadata": {
        "colab": {
          "base_uri": "https://localhost:8080/"
        },
        "id": "dTmrS7NZoDvV",
        "outputId": "5977db6e-ef9e-43be-a237-e3083fb4e893"
      },
      "source": [
        "!python predict.py"
      ],
      "execution_count": null,
      "outputs": [
        {
          "output_type": "stream",
          "text": [
            "model_data/xinpian1.pth model loaded.\n",
            "Input image filename:/content/equalize_adj.jpg\n",
            "/usr/local/lib/python3.7/dist-packages/torch/nn/functional.py:718: UserWarning: Named tensors and all their associated APIs are an experimental feature and subject to change. Please do not use them for anything important until they are released as stable. (Triggered internally at  /pytorch/c10/core/TensorImpl.h:1156.)\n",
            "  return torch.max_pool2d(input, kernel_size, stride, padding, dilation, ceil_mode)\n",
            "Input image filename:/content/equalize_adj.jpg\n",
            "Input image filename:Traceback (most recent call last):\n",
            "  File \"predict.py\", line 52, in <module>\n",
            "    img = input('Input image filename:')\n",
            "KeyboardInterrupt\n",
            "^C\n"
          ],
          "name": "stdout"
        }
      ]
    },
    {
      "cell_type": "code",
      "metadata": {
        "id": "8ib0FQk5oOXa",
        "colab": {
          "base_uri": "https://localhost:8080/"
        },
        "outputId": "442297d0-bcd1-4802-d1ef-14143fa2b721"
      },
      "source": [
        "!python /content/drive/MyDrive/Unet-pytorch/unet/get_miou_prediction.py"
      ],
      "execution_count": null,
      "outputs": [
        {
          "output_type": "stream",
          "text": [
            "model_data/xinpian1.pth model loaded.\n",
            "\r  0% 0/24 [00:00<?, ?it/s]/usr/local/lib/python3.7/dist-packages/torch/nn/functional.py:718: UserWarning: Named tensors and all their associated APIs are an experimental feature and subject to change. Please do not use them for anything important until they are released as stable. (Triggered internally at  /pytorch/c10/core/TensorImpl.h:1156.)\n",
            "  return torch.max_pool2d(input, kernel_size, stride, padding, dilation, ceil_mode)\n",
            "100% 24/24 [00:38<00:00,  1.59s/it]\n"
          ],
          "name": "stdout"
        }
      ]
    },
    {
      "cell_type": "code",
      "metadata": {
        "id": "1lptVY-crIG9",
        "colab": {
          "base_uri": "https://localhost:8080/"
        },
        "outputId": "73436c7d-e2c3-416c-d074-e003eda84cc5"
      },
      "source": [
        "!python miou.py"
      ],
      "execution_count": null,
      "outputs": [
        {
          "output_type": "stream",
          "text": [
            "Num classes 4\n",
            "10 / 24: mIou-71.19; mPA-88.81\n",
            "20 / 24: mIou-72.36; mPA-87.64\n",
            "===>background:\tmIou-99.44; mPA-99.56\n",
            "===>die:\tmIou-77.78; mPA-94.22\n",
            "===>yutou:\tmIou-47.34; mPA-70.1\n",
            "===>wire:\tmIou-64.91; mPA-85.73\n",
            "===> mIoU: 72.37; mPA: 87.4\n"
          ],
          "name": "stdout"
        }
      ]
    },
    {
      "cell_type": "code",
      "metadata": {
        "id": "k90mJ2DLrNO3"
      },
      "source": [
        "!git clone https://github.com/bingao110/psp-xp.git"
      ],
      "execution_count": null,
      "outputs": []
    },
    {
      "cell_type": "code",
      "metadata": {
        "id": "7E9WVjkX0n5f"
      },
      "source": [
        "!cp -r /content/psp-xp/VOCdevkit/VOC2007 /content/drive/MyDrive/Unet-pytorch/unet/VOCdevkit/VOC2007"
      ],
      "execution_count": null,
      "outputs": []
    }
  ]
}